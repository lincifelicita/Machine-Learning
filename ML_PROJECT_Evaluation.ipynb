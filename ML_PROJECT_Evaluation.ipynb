{
  "nbformat": 4,
  "nbformat_minor": 0,
  "metadata": {
    "colab": {
      "name": "ML PROJECT .ipynb",
      "provenance": [],
      "collapsed_sections": []
    },
    "kernelspec": {
      "name": "python3",
      "display_name": "Python 3"
    }
  },
  "cells": [
    {
      "cell_type": "markdown",
      "metadata": {
        "id": "rc8e2NZxEV4p"
      },
      "source": [
        "---\n",
        "\n",
        "## **MACHINE LEARNING PROJECT -** ***Sentiment analysis on Amazon food reviews*** \n",
        "\n",
        "---"
      ]
    },
    {
      "cell_type": "markdown",
      "metadata": {
        "id": "HMHBXD9hEzGT"
      },
      "source": [
        "## **GROUP MEMBERS :**\n",
        "\n",
        "#### Amith PS - CB.SC.I5DAS18003\n",
        "#### Karthik Raj VP - CB.SC.I5DAS18016\n",
        "#### Linci Felicita P - CB.SC.I5DAS18022\n",
        "#### Parameshwari S - CB.SC.I5DAS18026"
      ]
    },
    {
      "cell_type": "markdown",
      "metadata": {
        "id": "t1D24CLViqxm"
      },
      "source": [
        "##**1. Importing libraries**"
      ]
    },
    {
      "cell_type": "code",
      "metadata": {
        "colab": {
          "base_uri": "https://localhost:8080/"
        },
        "id": "wBPtu7xIYY36",
        "outputId": "669078ae-8d42-4ab6-87be-db4a8ef1189e"
      },
      "source": [
        "pip install scikit-plot"
      ],
      "execution_count": null,
      "outputs": [
        {
          "output_type": "stream",
          "text": [
            "Collecting scikit-plot\n",
            "  Downloading https://files.pythonhosted.org/packages/7c/47/32520e259340c140a4ad27c1b97050dd3254fdc517b1d59974d47037510e/scikit_plot-0.3.7-py3-none-any.whl\n",
            "Requirement already satisfied: scikit-learn>=0.18 in /usr/local/lib/python3.7/dist-packages (from scikit-plot) (0.22.2.post1)\n",
            "Requirement already satisfied: scipy>=0.9 in /usr/local/lib/python3.7/dist-packages (from scikit-plot) (1.4.1)\n",
            "Requirement already satisfied: matplotlib>=1.4.0 in /usr/local/lib/python3.7/dist-packages (from scikit-plot) (3.2.2)\n",
            "Requirement already satisfied: joblib>=0.10 in /usr/local/lib/python3.7/dist-packages (from scikit-plot) (1.0.1)\n",
            "Requirement already satisfied: numpy>=1.11.0 in /usr/local/lib/python3.7/dist-packages (from scikit-learn>=0.18->scikit-plot) (1.19.5)\n",
            "Requirement already satisfied: python-dateutil>=2.1 in /usr/local/lib/python3.7/dist-packages (from matplotlib>=1.4.0->scikit-plot) (2.8.1)\n",
            "Requirement already satisfied: cycler>=0.10 in /usr/local/lib/python3.7/dist-packages (from matplotlib>=1.4.0->scikit-plot) (0.10.0)\n",
            "Requirement already satisfied: pyparsing!=2.0.4,!=2.1.2,!=2.1.6,>=2.0.1 in /usr/local/lib/python3.7/dist-packages (from matplotlib>=1.4.0->scikit-plot) (2.4.7)\n",
            "Requirement already satisfied: kiwisolver>=1.0.1 in /usr/local/lib/python3.7/dist-packages (from matplotlib>=1.4.0->scikit-plot) (1.3.1)\n",
            "Requirement already satisfied: six>=1.5 in /usr/local/lib/python3.7/dist-packages (from python-dateutil>=2.1->matplotlib>=1.4.0->scikit-plot) (1.15.0)\n",
            "Installing collected packages: scikit-plot\n",
            "Successfully installed scikit-plot-0.3.7\n"
          ],
          "name": "stdout"
        }
      ]
    },
    {
      "cell_type": "code",
      "metadata": {
        "id": "5YBfWinTiw6h"
      },
      "source": [
        "import numpy as np\n",
        "import pandas as pd\n",
        "import seaborn as sns\n",
        "import matplotlib.pyplot as plt\n",
        "\n",
        "import plotly.express as px\n",
        "from prettytable import PrettyTable\n",
        "from sklearn.model_selection import train_test_split\n",
        "\n",
        "from sklearn.feature_extraction.text import CountVectorizer\n",
        "from sklearn.feature_extraction.text import TfidfTransformer\n",
        "from sklearn.feature_extraction.text import TfidfVectorizer\n",
        "\n",
        "from sklearn.linear_model import SGDClassifier\n",
        "from sklearn.calibration import CalibratedClassifierCV\n",
        "from sklearn.tree import DecisionTreeClassifier\n",
        "from sklearn.ensemble import RandomForestClassifier\n",
        "from sklearn.svm import SVC\n",
        "from sklearn.model_selection import GridSearchCV\n",
        "from sklearn.neighbors import KNeighborsClassifier\n",
        "from sklearn.naive_bayes import MultinomialNB\n",
        "from sklearn.metrics import confusion_matrix\n",
        "from sklearn.metrics import roc_auc_score, auc, roc_curve\n",
        "from sklearn import model_selection\n",
        "from sklearn.naive_bayes import BernoulliNB\n",
        "from sklearn.linear_model import LogisticRegression\n",
        "from sklearn.metrics import accuracy_score, f1_score, precision_score, recall_score\n",
        "\n",
        "\n",
        "from sklearn.metrics import classification_report\n",
        "from scikitplot.metrics import plot_confusion_matrix\n",
        "import warnings\n",
        "warnings.filterwarnings(\"ignore\")"
      ],
      "execution_count": null,
      "outputs": []
    },
    {
      "cell_type": "markdown",
      "metadata": {
        "id": "m6yjOC84ihFL"
      },
      "source": [
        "##**2. Reading the dataset**"
      ]
    },
    {
      "cell_type": "code",
      "metadata": {
        "id": "US2L8eMBVxrc",
        "colab": {
          "base_uri": "https://localhost:8080/",
          "height": 425
        },
        "outputId": "f4d1c4a3-a06c-4856-e1f4-731d87a8972e"
      },
      "source": [
        "df = pd.read_csv(\"/content/preprocessed.csv\")\n",
        "df = df.sample(frac = 1)\n",
        "df.head()"
      ],
      "execution_count": null,
      "outputs": [
        {
          "output_type": "execute_result",
          "data": {
            "text/html": [
              "<div>\n",
              "<style scoped>\n",
              "    .dataframe tbody tr th:only-of-type {\n",
              "        vertical-align: middle;\n",
              "    }\n",
              "\n",
              "    .dataframe tbody tr th {\n",
              "        vertical-align: top;\n",
              "    }\n",
              "\n",
              "    .dataframe thead th {\n",
              "        text-align: right;\n",
              "    }\n",
              "</style>\n",
              "<table border=\"1\" class=\"dataframe\">\n",
              "  <thead>\n",
              "    <tr style=\"text-align: right;\">\n",
              "      <th></th>\n",
              "      <th>Unnamed: 0</th>\n",
              "      <th>Unnamed: 0.1</th>\n",
              "      <th>Id</th>\n",
              "      <th>ProductId</th>\n",
              "      <th>UserId</th>\n",
              "      <th>ProfileName</th>\n",
              "      <th>HelpfulnessNumerator</th>\n",
              "      <th>HelpfulnessDenominator</th>\n",
              "      <th>Score</th>\n",
              "      <th>Time</th>\n",
              "      <th>Summary</th>\n",
              "      <th>Text</th>\n",
              "      <th>Date</th>\n",
              "      <th>Year</th>\n",
              "      <th>Target</th>\n",
              "      <th>Cleaned_text</th>\n",
              "    </tr>\n",
              "  </thead>\n",
              "  <tbody>\n",
              "    <tr>\n",
              "      <th>84612</th>\n",
              "      <td>51979</td>\n",
              "      <td>51979</td>\n",
              "      <td>519649</td>\n",
              "      <td>B006N3I1HM</td>\n",
              "      <td>AM2WKUD1MX49L</td>\n",
              "      <td>Sandito Gordito</td>\n",
              "      <td>2</td>\n",
              "      <td>3</td>\n",
              "      <td>5</td>\n",
              "      <td>1293235200</td>\n",
              "      <td>Upset with Amazon</td>\n",
              "      <td>I have a standing order with Amazon for some t...</td>\n",
              "      <td>2010-12-25</td>\n",
              "      <td>2010</td>\n",
              "      <td>Positive</td>\n",
              "      <td>stand order amazon time case k cup ship every ...</td>\n",
              "    </tr>\n",
              "    <tr>\n",
              "      <th>105088</th>\n",
              "      <td>12457</td>\n",
              "      <td>12457</td>\n",
              "      <td>124248</td>\n",
              "      <td>B005ZBZM52</td>\n",
              "      <td>#oc-R2QRIFHKMX74HY</td>\n",
              "      <td>J. Walters</td>\n",
              "      <td>0</td>\n",
              "      <td>0</td>\n",
              "      <td>3</td>\n",
              "      <td>1339804800</td>\n",
              "      <td>Coffee great, Cup does not fit Keurig machine ...</td>\n",
              "      <td>A friend gave a few cups of this to try.  Coff...</td>\n",
              "      <td>2012-06-16</td>\n",
              "      <td>2012</td>\n",
              "      <td>Neutral</td>\n",
              "      <td>friend give cup try coffee great cup not fit k...</td>\n",
              "    </tr>\n",
              "    <tr>\n",
              "      <th>119339</th>\n",
              "      <td>6520</td>\n",
              "      <td>6520</td>\n",
              "      <td>65844</td>\n",
              "      <td>B0007A0AQW</td>\n",
              "      <td>A9HHQGTZV1P8D</td>\n",
              "      <td>Mrs. Spates \"amayasmom2003\"</td>\n",
              "      <td>0</td>\n",
              "      <td>0</td>\n",
              "      <td>3</td>\n",
              "      <td>1334016000</td>\n",
              "      <td>Smells Aweful, but Jimmy Loves It</td>\n",
              "      <td>I can't stand the smell of this treat.  They a...</td>\n",
              "      <td>2012-04-10</td>\n",
              "      <td>2012</td>\n",
              "      <td>Neutral</td>\n",
              "      <td>not stand smell treat bite size tiny little be...</td>\n",
              "    </tr>\n",
              "    <tr>\n",
              "      <th>40573</th>\n",
              "      <td>36162</td>\n",
              "      <td>36162</td>\n",
              "      <td>361535</td>\n",
              "      <td>B002AQJN1E</td>\n",
              "      <td>A3DMCALF7N395M</td>\n",
              "      <td>Lynn  Pozz</td>\n",
              "      <td>1</td>\n",
              "      <td>1</td>\n",
              "      <td>2</td>\n",
              "      <td>1320710400</td>\n",
              "      <td>Can't say I liked this one</td>\n",
              "      <td>I didn't like the taste of this hazelnut stevi...</td>\n",
              "      <td>2011-11-08</td>\n",
              "      <td>2011</td>\n",
              "      <td>Negative</td>\n",
              "      <td>not like taste hazelnut stevia not like sweetl...</td>\n",
              "    </tr>\n",
              "    <tr>\n",
              "      <th>70334</th>\n",
              "      <td>33719</td>\n",
              "      <td>33719</td>\n",
              "      <td>337974</td>\n",
              "      <td>B004LWEUKO</td>\n",
              "      <td>A3U30FKFTAUPZR</td>\n",
              "      <td>P. Karmazin</td>\n",
              "      <td>0</td>\n",
              "      <td>0</td>\n",
              "      <td>5</td>\n",
              "      <td>1334707200</td>\n",
              "      <td>Very good</td>\n",
              "      <td>My dogs love and are staying very healthy.  I ...</td>\n",
              "      <td>2012-04-18</td>\n",
              "      <td>2012</td>\n",
              "      <td>Positive</td>\n",
              "      <td>dog love stay healthy keep buying excellent pr...</td>\n",
              "    </tr>\n",
              "  </tbody>\n",
              "</table>\n",
              "</div>"
            ],
            "text/plain": [
              "        Unnamed: 0  ...                                       Cleaned_text\n",
              "84612        51979  ...  stand order amazon time case k cup ship every ...\n",
              "105088       12457  ...  friend give cup try coffee great cup not fit k...\n",
              "119339        6520  ...  not stand smell treat bite size tiny little be...\n",
              "40573        36162  ...  not like taste hazelnut stevia not like sweetl...\n",
              "70334        33719  ...  dog love stay healthy keep buying excellent pr...\n",
              "\n",
              "[5 rows x 16 columns]"
            ]
          },
          "metadata": {
            "tags": []
          },
          "execution_count": 3
        }
      ]
    },
    {
      "cell_type": "code",
      "metadata": {
        "colab": {
          "base_uri": "https://localhost:8080/"
        },
        "id": "Kmw7RNe-2Eh7",
        "outputId": "1de54680-8bc2-4b03-88c6-3844a21851ac"
      },
      "source": [
        "df.shape"
      ],
      "execution_count": null,
      "outputs": [
        {
          "output_type": "execute_result",
          "data": {
            "text/plain": [
              "(132437, 16)"
            ]
          },
          "metadata": {
            "tags": []
          },
          "execution_count": 4
        }
      ]
    },
    {
      "cell_type": "code",
      "metadata": {
        "id": "5EZEX8bAlNzD"
      },
      "source": [
        "X = df['Cleaned_text']\n",
        "y = df['Target']"
      ],
      "execution_count": null,
      "outputs": []
    },
    {
      "cell_type": "markdown",
      "metadata": {
        "id": "J6T4KCl_kcaS"
      },
      "source": [
        "##**3. Train-Test split**"
      ]
    },
    {
      "cell_type": "code",
      "metadata": {
        "id": "VRt0qOHBTA-a"
      },
      "source": [
        "x_training, x_test, y_training, y_test= train_test_split(X, y, test_size=0.25)\n",
        "x_train, x_cv, y_train, y_cv = train_test_split(x_training, y_training, test_size=0.3)"
      ],
      "execution_count": null,
      "outputs": []
    },
    {
      "cell_type": "code",
      "metadata": {
        "colab": {
          "base_uri": "https://localhost:8080/"
        },
        "id": "emmyPrgMTHUt",
        "outputId": "8f8bc975-9da4-42ae-9776-b40eaca1465c"
      },
      "source": [
        "print(\"The shape of the training data is:\", x_train.shape, y_train.shape)\n",
        "print(\"The shape of the CV data is:\", x_cv.shape, y_cv.shape)\n",
        "print(\"The shape of the test data is:\", x_test.shape, y_test.shape)"
      ],
      "execution_count": null,
      "outputs": [
        {
          "output_type": "stream",
          "text": [
            "The shape of the training data is: (69528,) (69528,)\n",
            "The shape of the CV data is: (29799,) (29799,)\n",
            "The shape of the test data is: (33110,) (33110,)\n"
          ],
          "name": "stdout"
        }
      ]
    },
    {
      "cell_type": "markdown",
      "metadata": {
        "id": "0PLLV3EOy_vA"
      },
      "source": [
        "##**4. Vectorization**"
      ]
    },
    {
      "cell_type": "markdown",
      "metadata": {
        "id": "cqOFaOyN4No0"
      },
      "source": [
        "## BOW vectorizer"
      ]
    },
    {
      "cell_type": "code",
      "metadata": {
        "id": "zAQCNG2kTJ-F"
      },
      "source": [
        "count_vect = CountVectorizer(ngram_range=(1,2))\n",
        "count_vect.fit(x_train)\n",
        "\n",
        "x_train_bow = count_vect.transform(x_train)\n",
        "x_cv_bow = count_vect.transform(x_cv)\n",
        "x_test_bow = count_vect.transform(x_test)"
      ],
      "execution_count": null,
      "outputs": []
    },
    {
      "cell_type": "code",
      "metadata": {
        "colab": {
          "base_uri": "https://localhost:8080/"
        },
        "id": "8x_4O5MGTtDV",
        "outputId": "ba7c7791-cf53-4a1f-8243-fcbc427d0fe7"
      },
      "source": [
        "print(\"The shape of the training data is:\", x_train_bow.shape, y_train.shape)\n",
        "print(\"The shape of the CV data is:\", x_cv_bow.shape, y_cv.shape)\n",
        "print(\"The shape of the test data is:\", x_test_bow.shape, y_test.shape)"
      ],
      "execution_count": null,
      "outputs": [
        {
          "output_type": "stream",
          "text": [
            "The shape of the training data is: (69528, 598798) (69528,)\n",
            "The shape of the CV data is: (29799, 598798) (29799,)\n",
            "The shape of the test data is: (33110, 598798) (33110,)\n"
          ],
          "name": "stdout"
        }
      ]
    },
    {
      "cell_type": "markdown",
      "metadata": {
        "id": "ETKLJHJV4Sm_"
      },
      "source": [
        "## Tfidf vectorizer"
      ]
    },
    {
      "cell_type": "code",
      "metadata": {
        "id": "7A-fz4j0TJi1"
      },
      "source": [
        "tfidf_vect = TfidfVectorizer(stop_words=None, ngram_range=(1,2))\n",
        "tfidf_vect.fit(x_train)\n",
        "\n",
        "x_train_tfidf = tfidf_vect.transform(x_train)\n",
        "x_cv_tfidf = tfidf_vect.transform(x_cv)\n",
        "x_test_tfidf = tfidf_vect.transform(x_test)"
      ],
      "execution_count": null,
      "outputs": []
    },
    {
      "cell_type": "code",
      "metadata": {
        "colab": {
          "base_uri": "https://localhost:8080/"
        },
        "id": "_9Xps9gTYjaN",
        "outputId": "126aca80-3874-4b1b-a912-5727cea8cd06"
      },
      "source": [
        "print(\"The shape of the training data is:\", x_train_tfidf.shape, y_train.shape)\n",
        "print(\"The shape of the CV data is:\", x_cv_tfidf.shape, y_cv.shape)\n",
        "print(\"The shape of the test data is:\", x_test_tfidf.shape, y_test.shape)"
      ],
      "execution_count": null,
      "outputs": [
        {
          "output_type": "stream",
          "text": [
            "The shape of the training data is: (69528, 598798) (69528,)\n",
            "The shape of the CV data is: (29799, 598798) (29799,)\n",
            "The shape of the test data is: (33110, 598798) (33110,)\n"
          ],
          "name": "stdout"
        }
      ]
    },
    {
      "cell_type": "markdown",
      "metadata": {
        "id": "1JJrxP28XDj4"
      },
      "source": [
        "##**5. Evaluation**"
      ]
    },
    {
      "cell_type": "markdown",
      "metadata": {
        "id": "EiRTMTUwKK08"
      },
      "source": [
        "---\n",
        "\n",
        "## **Naive Bayes Classifier** \n",
        "\n",
        "---"
      ]
    },
    {
      "cell_type": "code",
      "metadata": {
        "id": "KVBtyRdgL9yx"
      },
      "source": [
        "def nb_train(x_train, x_cv, y_train, y_cv, alg):\n",
        "    alpha = [10,5,1,0.5,0.1,0.05,0.01,0.005,0.001,0.0005,0.0001,0.00005,0.00001,0.000005,0.000001]\n",
        "    accuracy_cv = []\n",
        "\n",
        "    for i in alpha[0:]:\n",
        "        if (alg == 'Multinomial'):\n",
        "            nb = MultinomialNB(alpha=i)\n",
        "        elif (alg == 'Bernoulli'):\n",
        "            nb = BernoulliNB(alpha=i)\n",
        "        nb.fit(x_train, y_train)\n",
        "        prediction = nb.predict(x_cv)\n",
        "        acc_cv = accuracy_score(y_cv, prediction)\n",
        "        accuracy_cv.append(acc_cv)\n",
        "    opt_alpha = alpha[accuracy_cv.index(max(accuracy_cv))]\n",
        "    x = pd.DataFrame()\n",
        "    x['Alpha'] = alpha\n",
        "    x['Accuracy'] = accuracy_cv\n",
        "    print(x)\n",
        "            \n",
        "    plt.plot(alpha, accuracy_cv, 'b-', label=\"Cross Validation Data\")\n",
        "    plt.legend(loc='lower right')\n",
        "    plt.title(\"alpha vs Auc Score\")\n",
        "    plt.ylabel('Auc Score')\n",
        "    plt.xlabel('alpha')\n",
        "    plt.show()\n",
        "    return opt_alpha"
      ],
      "execution_count": null,
      "outputs": []
    },
    {
      "cell_type": "code",
      "metadata": {
        "id": "I4VHgNSEMAQp"
      },
      "source": [
        "def nb_test(x_train, y_train, x_test, y_test, optimal_alpha, alg):\n",
        "    if (alg == 'Multinomial'):\n",
        "        nb = MultinomialNB(alpha=optimal_alpha)\n",
        "    elif (alg == 'Bernoulli'):\n",
        "        nb = BernoulliNB(alpha=optimal_alpha)\n",
        "    nb.fit(x_train, y_train)\n",
        "    \n",
        "    prediction = nb.predict(x_test)\n",
        "\n",
        "    print(\"The accuracy of the model is:\", accuracy_score(y_test, prediction)*100)\n",
        "    plot_confusion_matrix(y_test, prediction)\n",
        "    plt.show()\n",
        "    return accuracy_score(y_test, prediction)*100"
      ],
      "execution_count": null,
      "outputs": []
    },
    {
      "cell_type": "code",
      "metadata": {
        "colab": {
          "base_uri": "https://localhost:8080/",
          "height": 567
        },
        "id": "DK7qLVU1MNBC",
        "outputId": "d3aae375-058a-427c-add5-61a34c96df94"
      },
      "source": [
        "a1 = nb_train(x_train_bow, x_cv_bow, y_train, y_cv, alg='Multinomial')"
      ],
      "execution_count": null,
      "outputs": [
        {
          "output_type": "stream",
          "text": [
            "        Alpha  Accuracy\n",
            "0   10.000000  0.820732\n",
            "1    5.000000  0.869895\n",
            "2    1.000000  0.941743\n",
            "3    0.500000  0.957415\n",
            "4    0.100000  0.972516\n",
            "5    0.050000  0.974764\n",
            "6    0.010000  0.976174\n",
            "7    0.005000  0.977046\n",
            "8    0.001000  0.977415\n",
            "9    0.000500  0.977449\n",
            "10   0.000100  0.977684\n",
            "11   0.000050  0.977516\n",
            "12   0.000010  0.977650\n",
            "13   0.000005  0.977550\n",
            "14   0.000001  0.977348\n"
          ],
          "name": "stdout"
        },
        {
          "output_type": "display_data",
          "data": {
            "image/png": "[encoded data removed]",
            "text/plain": [
              "<Figure size 432x288 with 1 Axes>"
            ]
          },
          "metadata": {
            "tags": [],
            "needs_background": "light"
          }
        }
      ]
    },
    {
      "cell_type": "code",
      "metadata": {
        "colab": {
          "base_uri": "https://localhost:8080/",
          "height": 312
        },
        "id": "Wdzrj_OfMRna",
        "outputId": "de85dcb5-bdd8-425b-a907-3e1d248dc0f4"
      },
      "source": [
        "b1 = nb_test(x_train_bow, y_train, x_test_bow, y_test, optimal_alpha=a1, alg='Multinomial')"
      ],
      "execution_count": null,
      "outputs": [
        {
          "output_type": "stream",
          "text": [
            "The accuracy of the model is: 97.64421624886741\n"
          ],
          "name": "stdout"
        },
        {
          "output_type": "display_data",
          "data": {
            "image/png": "[encoded data removed]",
            "text/plain": [
              "<Figure size 432x288 with 2 Axes>"
            ]
          },
          "metadata": {
            "tags": [],
            "needs_background": "light"
          }
        }
      ]
    },
    {
      "cell_type": "code",
      "metadata": {
        "colab": {
          "base_uri": "https://localhost:8080/",
          "height": 567
        },
        "id": "snPmLNzCtcx-",
        "outputId": "ef6a1a3e-11c2-4ebe-e6f6-9523042e7635"
      },
      "source": [
        "a2 = nb_train(x_train_bow, x_cv_bow, y_train, y_cv, alg='Bernoulli')"
      ],
      "execution_count": null,
      "outputs": [
        {
          "output_type": "stream",
          "text": [
            "        Alpha  Accuracy\n",
            "0   10.000000  0.746334\n",
            "1    5.000000  0.835968\n",
            "2    1.000000  0.934830\n",
            "3    0.500000  0.953488\n",
            "4    0.100000  0.972415\n",
            "5    0.050000  0.974999\n",
            "6    0.010000  0.977818\n",
            "7    0.005000  0.978321\n",
            "8    0.001000  0.979093\n",
            "9    0.000500  0.979060\n",
            "10   0.000100  0.979127\n",
            "11   0.000050  0.978959\n",
            "12   0.000010  0.978623\n",
            "13   0.000005  0.978657\n",
            "14   0.000001  0.978053\n"
          ],
          "name": "stdout"
        },
        {
          "output_type": "display_data",
          "data": {
            "image/png": "[encoded data removed]",
            "text/plain": [
              "<Figure size 432x288 with 1 Axes>"
            ]
          },
          "metadata": {
            "tags": [],
            "needs_background": "light"
          }
        }
      ]
    },
    {
      "cell_type": "code",
      "metadata": {
        "colab": {
          "base_uri": "https://localhost:8080/",
          "height": 312
        },
        "id": "f3toZKLCteO2",
        "outputId": "7026cab4-bf15-4128-c707-a896e4559ddd"
      },
      "source": [
        "b2 = nb_test(x_train_bow, y_train, x_test_bow, y_test, optimal_alpha=a2, alg='Bernoulli')"
      ],
      "execution_count": null,
      "outputs": [
        {
          "output_type": "stream",
          "text": [
            "The accuracy of the model is: 97.83449109030504\n"
          ],
          "name": "stdout"
        },
        {
          "output_type": "display_data",
          "data": {
            "image/png": "[encoded data removed]",
            "text/plain": [
              "<Figure size 432x288 with 2 Axes>"
            ]
          },
          "metadata": {
            "tags": [],
            "needs_background": "light"
          }
        }
      ]
    },
    {
      "cell_type": "code",
      "metadata": {
        "colab": {
          "base_uri": "https://localhost:8080/",
          "height": 567
        },
        "id": "W-VDpidAMo6i",
        "outputId": "e75e4071-ec4e-42f9-9b8a-c830bfd002e4"
      },
      "source": [
        "a3 = nb_train(x_train_tfidf, x_cv_tfidf, y_train, y_cv, alg='Multinomial')"
      ],
      "execution_count": null,
      "outputs": [
        {
          "output_type": "stream",
          "text": [
            "        Alpha  Accuracy\n",
            "0   10.000000  0.804993\n",
            "1    5.000000  0.837813\n",
            "2    1.000000  0.903990\n",
            "3    0.500000  0.925937\n",
            "4    0.100000  0.960435\n",
            "5    0.050000  0.968053\n",
            "6    0.010000  0.975637\n",
            "7    0.005000  0.976241\n",
            "8    0.001000  0.977382\n",
            "9    0.000500  0.977348\n",
            "10   0.000100  0.977516\n",
            "11   0.000050  0.977583\n",
            "12   0.000010  0.977415\n",
            "13   0.000005  0.977315\n",
            "14   0.000001  0.977415\n"
          ],
          "name": "stdout"
        },
        {
          "output_type": "display_data",
          "data": {
            "image/png": "[encoded data removed]",
            "text/plain": [
              "<Figure size 432x288 with 1 Axes>"
            ]
          },
          "metadata": {
            "tags": [],
            "needs_background": "light"
          }
        }
      ]
    },
    {
      "cell_type": "code",
      "metadata": {
        "colab": {
          "base_uri": "https://localhost:8080/",
          "height": 312
        },
        "id": "fkYOxWaDMs8q",
        "outputId": "8e1afcf0-d0c6-44cf-c71d-aba849f14339"
      },
      "source": [
        "b3 = nb_test(x_train_tfidf, y_train, x_test_tfidf, y_test, optimal_alpha=a3, alg='Multinomial')"
      ],
      "execution_count": null,
      "outputs": [
        {
          "output_type": "stream",
          "text": [
            "The accuracy of the model is: 97.65327695560254\n"
          ],
          "name": "stdout"
        },
        {
          "output_type": "display_data",
          "data": {
            "image/png": "[encoded data removed]",
            "text/plain": [
              "<Figure size 432x288 with 2 Axes>"
            ]
          },
          "metadata": {
            "tags": [],
            "needs_background": "light"
          }
        }
      ]
    },
    {
      "cell_type": "code",
      "metadata": {
        "colab": {
          "base_uri": "https://localhost:8080/",
          "height": 567
        },
        "id": "SI0dy2SKMv66",
        "outputId": "995503cd-6827-44ae-a592-b1997789d35c"
      },
      "source": [
        "a4 = nb_train(x_train_tfidf, x_cv_tfidf, y_train, y_cv, alg='Bernoulli')"
      ],
      "execution_count": null,
      "outputs": [
        {
          "output_type": "stream",
          "text": [
            "        Alpha  Accuracy\n",
            "0   10.000000  0.746334\n",
            "1    5.000000  0.835968\n",
            "2    1.000000  0.934830\n",
            "3    0.500000  0.953488\n",
            "4    0.100000  0.972415\n",
            "5    0.050000  0.974999\n",
            "6    0.010000  0.977818\n",
            "7    0.005000  0.978321\n",
            "8    0.001000  0.979093\n",
            "9    0.000500  0.979060\n",
            "10   0.000100  0.979127\n",
            "11   0.000050  0.978959\n",
            "12   0.000010  0.978623\n",
            "13   0.000005  0.978657\n",
            "14   0.000001  0.978053\n"
          ],
          "name": "stdout"
        },
        {
          "output_type": "display_data",
          "data": {
            "image/png": "[encoded data removed]",
            "text/plain": [
              "<Figure size 432x288 with 1 Axes>"
            ]
          },
          "metadata": {
            "tags": [],
            "needs_background": "light"
          }
        }
      ]
    },
    {
      "cell_type": "code",
      "metadata": {
        "colab": {
          "base_uri": "https://localhost:8080/",
          "height": 312
        },
        "id": "qJTk89awcE77",
        "outputId": "08347600-16ab-4411-e0e3-c99149ab7370"
      },
      "source": [
        "b4 = nb_test(x_train_tfidf, y_train, x_test_tfidf, y_test, optimal_alpha=a4, alg='Bernoulli')"
      ],
      "execution_count": null,
      "outputs": [
        {
          "output_type": "stream",
          "text": [
            "The accuracy of the model is: 97.83449109030504\n"
          ],
          "name": "stdout"
        },
        {
          "output_type": "display_data",
          "data": {
            "image/png": "[encoded data removed]",
            "text/plain": [
              "<Figure size 432x288 with 2 Axes>"
            ]
          },
          "metadata": {
            "tags": [],
            "needs_background": "light"
          }
        }
      ]
    },
    {
      "cell_type": "code",
      "metadata": {
        "colab": {
          "base_uri": "https://localhost:8080/"
        },
        "id": "ZSwKwhXPa0AJ",
        "outputId": "6d00339f-5022-477a-812f-35a7818c41df"
      },
      "source": [
        "t = PrettyTable()\n",
        "t.field_names = [\"Model\", \"Hyperparameter\", \"Accuracy\"]\n",
        "t.add_row([\"Multinomial Naive bayes using BOW\", a1, b1])\n",
        "t.add_row([\"Multinomial Naive bayes using Tf-idf\", a3, b3])\n",
        "t.add_row([\"Bernoulli Naive bayes using BOW\", a2, b2])\n",
        "t.add_row([\"Bernoulli Naive bayes using Tf-idf\", a4, b4])\n",
        "print(t)"
      ],
      "execution_count": null,
      "outputs": [
        {
          "output_type": "stream",
          "text": [
            "+--------------------------------------+----------------+-------------------+\n",
            "|                Model                 | Hyperparameter |      Accuracy     |\n",
            "+--------------------------------------+----------------+-------------------+\n",
            "|  Multinomial Naive bayes using BOW   |     0.0001     | 97.64421624886741 |\n",
            "| Multinomial Naive bayes using Tf-idf |     5e-05      | 97.65327695560254 |\n",
            "|   Bernoulli Naive bayes using BOW    |     0.0001     | 97.83449109030504 |\n",
            "|  Bernoulli Naive bayes using Tf-idf  |     0.0001     | 97.83449109030504 |\n",
            "+--------------------------------------+----------------+-------------------+\n"
          ],
          "name": "stdout"
        }
      ]
    },
    {
      "cell_type": "markdown",
      "metadata": {
        "id": "aLQ-JdOoO8H8"
      },
      "source": [
        "---\n",
        "\n",
        "## **Support Vector Machine** \n",
        "\n",
        "---"
      ]
    },
    {
      "cell_type": "code",
      "metadata": {
        "id": "0U_ZG7bTmoAF"
      },
      "source": [
        "def svm_train(x_train, x_cv, y_train, y_cv, algo):\n",
        "    alpha = [10**x for x in range(-5, 4)]     \n",
        "    accuracy_cv = []\n",
        "\n",
        "    for i in alpha[0:]:\n",
        "        if (algo == 'Linear'):\n",
        "            model=SGDClassifier(alpha=i)\n",
        "            svm = CalibratedClassifierCV(base_estimator=model)\n",
        "        elif (algo == 'RBF'):\n",
        "            svm = SVC(C=i, kernel = 'rbf', random_state=0)\n",
        "        svm.fit(x_train, y_train)\n",
        "        prediction = svm.predict(x_cv)\n",
        "        acc_cv = accuracy_score(y_cv, prediction)\n",
        "        accuracy_cv.append(acc_cv)\n",
        "    opt_alpha = alpha[accuracy_cv.index(max(accuracy_cv))]\n",
        "    x = pd.DataFrame()\n",
        "    x['Alpha'] = alpha\n",
        "    x['Accuracy'] = accuracy_cv\n",
        "    print(x)\n",
        "        \n",
        "    plt.plot(alpha, accuracy_cv, 'b-', label=\"Cross Validation Data\")\n",
        "    plt.legend(loc='lower right')\n",
        "    plt.title(\"alpha v/s Auc Score\")\n",
        "    plt.ylabel('Auc Score')\n",
        "    plt.xlabel('alpha ')\n",
        "    plt.show()\n",
        "    return opt_alpha"
      ],
      "execution_count": null,
      "outputs": []
    },
    {
      "cell_type": "code",
      "metadata": {
        "id": "rkyPS-3bFXff"
      },
      "source": [
        "def svm_test(x_train, y_train, x_test, y_test, optimal_alpha, algo):\n",
        "    if (algo == 'Linear'):\n",
        "        model=SGDClassifier(alpha=optimal_alpha)          \n",
        "        svm = CalibratedClassifierCV(base_estimator=model)\n",
        "    elif (algo == 'RBF'):\n",
        "        svm = SVC(C=optimal_alpha, kernel = 'rbf', random_state=0)     \n",
        "    svm.fit(x_train, y_train)\n",
        "    prediction = svm.predict(x_test)\n",
        "    print(\"The accuracy of the model is:\", accuracy_score(y_test, prediction)*100)\n",
        "    \n",
        "    plot_confusion_matrix(y_test, prediction)\n",
        "    plt.show()\n",
        "\n",
        "    return accuracy_score(y_test, prediction)*100"
      ],
      "execution_count": null,
      "outputs": []
    },
    {
      "cell_type": "code",
      "metadata": {
        "colab": {
          "base_uri": "https://localhost:8080/",
          "height": 465
        },
        "id": "5cv9BO7PFkkw",
        "outputId": "d129b089-19b2-412b-8ac0-84ce4cfa75c3"
      },
      "source": [
        "a1 = svm_train(x_train_bow, x_cv_bow, y_train, y_cv, algo='Linear')"
      ],
      "execution_count": null,
      "outputs": [
        {
          "output_type": "stream",
          "text": [
            "        Alpha  Accuracy\n",
            "0     0.00001  0.972784\n",
            "1     0.00010  0.976207\n",
            "2     0.00100  0.950703\n",
            "3     0.01000  0.813484\n",
            "4     0.10000  0.673143\n",
            "5     1.00000  0.495856\n",
            "6    10.00000  0.407631\n",
            "7   100.00000  0.406054\n",
            "8  1000.00000  0.406054\n"
          ],
          "name": "stdout"
        },
        {
          "output_type": "display_data",
          "data": {
            "image/png": "[encoded data removed]",
            "text/plain": [
              "<Figure size 432x288 with 1 Axes>"
            ]
          },
          "metadata": {
            "tags": [],
            "needs_background": "light"
          }
        }
      ]
    },
    {
      "cell_type": "code",
      "metadata": {
        "colab": {
          "base_uri": "https://localhost:8080/",
          "height": 312
        },
        "id": "LJvTDKiCF3Q6",
        "outputId": "017f2906-0935-401a-faf6-515cc6e9630b"
      },
      "source": [
        "b1 = svm_test(x_train_bow, y_train, x_test_bow, y_test, optimal_alpha=a1, algo='Linear')"
      ],
      "execution_count": null,
      "outputs": [
        {
          "output_type": "stream",
          "text": [
            "The accuracy of the model is: 97.67441860465115\n"
          ],
          "name": "stdout"
        },
        {
          "output_type": "display_data",
          "data": {
            "image/png": "[encoded data removed]",
            "text/plain": [
              "<Figure size 432x288 with 2 Axes>"
            ]
          },
          "metadata": {
            "tags": [],
            "needs_background": "light"
          }
        }
      ]
    },
    {
      "cell_type": "code",
      "metadata": {
        "colab": {
          "base_uri": "https://localhost:8080/",
          "height": 465
        },
        "id": "0NY_DF41F5nX",
        "outputId": "22371739-a3d5-4bab-a412-ec04e367e920"
      },
      "source": [
        "a2 = svm_train(x_train_tfidf, x_cv_tfidf, y_train, y_cv, algo='Linear')"
      ],
      "execution_count": null,
      "outputs": [
        {
          "output_type": "stream",
          "text": [
            "        Alpha  Accuracy\n",
            "0     0.00001  0.980469\n",
            "1     0.00010  0.893587\n",
            "2     0.00100  0.820665\n",
            "3     0.01000  0.819457\n",
            "4     0.10000  0.569885\n",
            "5     1.00000  0.569885\n",
            "6    10.00000  0.569885\n",
            "7   100.00000  0.569885\n",
            "8  1000.00000  0.569885\n"
          ],
          "name": "stdout"
        },
        {
          "output_type": "display_data",
          "data": {
            "image/png": "[encoded data removed]",
            "text/plain": [
              "<Figure size 432x288 with 1 Axes>"
            ]
          },
          "metadata": {
            "tags": [],
            "needs_background": "light"
          }
        }
      ]
    },
    {
      "cell_type": "code",
      "metadata": {
        "colab": {
          "base_uri": "https://localhost:8080/",
          "height": 312
        },
        "id": "3DAuD2eSF75h",
        "outputId": "b909bf6b-647a-4de6-ea1c-6d518e9f72d8"
      },
      "source": [
        "b2 = svm_test(x_train_tfidf, y_train, x_test_tfidf, y_test, optimal_alpha=a2, algo='Linear')"
      ],
      "execution_count": null,
      "outputs": [
        {
          "output_type": "stream",
          "text": [
            "The accuracy of the model is: 98.05194805194806\n"
          ],
          "name": "stdout"
        },
        {
          "output_type": "display_data",
          "data": {
            "image/png": "[encoded data removed]",
            "text/plain": [
              "<Figure size 432x288 with 2 Axes>"
            ]
          },
          "metadata": {
            "tags": [],
            "needs_background": "light"
          }
        }
      ]
    },
    {
      "cell_type": "code",
      "metadata": {
        "id": "tWiMsMwSGryv",
        "colab": {
          "base_uri": "https://localhost:8080/"
        },
        "outputId": "ea0c2348-d8e7-4eb5-eeb7-1cf0fa53e972"
      },
      "source": [
        "t = PrettyTable()\n",
        "t.field_names = [\"Model\", \"Hyperparameter\", \"Accuracy\"]\n",
        "t.add_row([\"Linear SVM using BOW\", a1, b1])\n",
        "t.add_row([\" Linear SVM using TF-idf\", a2, b2])\n",
        "print(t)"
      ],
      "execution_count": null,
      "outputs": [
        {
          "output_type": "stream",
          "text": [
            "+--------------------------+----------------+-------------------+\n",
            "|          Model           | Hyperparameter |      Accuracy     |\n",
            "+--------------------------+----------------+-------------------+\n",
            "|   Linear SVM using BOW   |     0.0001     | 97.67441860465115 |\n",
            "|  Linear SVM using TF-idf |     1e-05      | 98.05194805194806 |\n",
            "+--------------------------+----------------+-------------------+\n"
          ],
          "name": "stdout"
        }
      ]
    },
    {
      "cell_type": "markdown",
      "metadata": {
        "id": "BNTRJdTbGzHa"
      },
      "source": [
        "---\n",
        "\n",
        "## **Logistic Regression** \n",
        "\n",
        "---"
      ]
    },
    {
      "cell_type": "code",
      "metadata": {
        "id": "CMXqftNPG3UH"
      },
      "source": [
        "def logistic_train(x_train, x_cv, y_train, y_cv, penal):\n",
        "    C = [10000,5000,1000,500,100,50,10,5,1,0.5,0.1,0.05,0.01,0.005,0.001]\n",
        "    accuracy_cv = []\n",
        "\n",
        "    for i in C[0:]:\n",
        "        logistic = LogisticRegression(penalty=penal, C=i)\n",
        "        logistic.fit(x_train, y_train)\n",
        "        prediction = logistic.predict(x_cv) \n",
        "        acc_cv = accuracy_score(y_cv, prediction)\n",
        "        accuracy_cv.append(acc_cv)\n",
        "    opt_C = C[accuracy_cv.index(max(accuracy_cv))]\n",
        "    x = pd.DataFrame()\n",
        "    x['Lambda'] = C\n",
        "    x['Accuracy'] = accuracy_cv\n",
        "    print(x)\n",
        "    plt.plot(C, accuracy_cv, 'b-', label=\"Cross Validation Data\")\n",
        "    plt.legend(loc='lower right')\n",
        "    plt.title(\"lamba v/s Auc Score\")\n",
        "    plt.ylabel('Auc Score')\n",
        "    plt.xlabel('lambda')\n",
        "    plt.show()  \n",
        "    return opt_C"
      ],
      "execution_count": null,
      "outputs": []
    },
    {
      "cell_type": "code",
      "metadata": {
        "id": "6bO7atM9JkOa"
      },
      "source": [
        "def logistic_test(x_train, y_train, x_test, y_test, penal, optimal_C):\n",
        "    logistic = LogisticRegression(penalty=penal, C=optimal_C)\n",
        "    logistic.fit(x_train, y_train)\n",
        "    prediction = logistic.predict(x_test)\n",
        "    print(\"The accuracy of the model is:\", accuracy_score(y_test, prediction)*100)\n",
        "    \n",
        "    plot_confusion_matrix(y_test, prediction)\n",
        "    plt.show()\n",
        "    return accuracy_score(y_test, prediction)*100"
      ],
      "execution_count": null,
      "outputs": []
    },
    {
      "cell_type": "code",
      "metadata": {
        "colab": {
          "base_uri": "https://localhost:8080/",
          "height": 567
        },
        "id": "YA893VmtJoe2",
        "outputId": "73d60400-efe0-4ab8-cbe2-bc910a6b0f8e"
      },
      "source": [
        "a1 = logistic_train(x_train_bow, x_cv_bow, y_train, y_cv, penal='l2')"
      ],
      "execution_count": null,
      "outputs": [
        {
          "output_type": "stream",
          "text": [
            "       Lambda  Accuracy\n",
            "0   10000.000  0.971912\n",
            "1    5000.000  0.971878\n",
            "2    1000.000  0.971643\n",
            "3     500.000  0.972012\n",
            "4     100.000  0.971878\n",
            "5      50.000  0.971408\n",
            "6      10.000  0.970402\n",
            "7       5.000  0.970502\n",
            "8       1.000  0.970267\n",
            "9       0.500  0.970066\n",
            "10      0.100  0.963354\n",
            "11      0.050  0.955535\n",
            "12      0.010  0.896909\n",
            "13      0.005  0.855599\n",
            "14      0.001  0.748481\n"
          ],
          "name": "stdout"
        },
        {
          "output_type": "display_data",
          "data": {
            "image/png": "[encoded data removed]",
            "text/plain": [
              "<Figure size 432x288 with 1 Axes>"
            ]
          },
          "metadata": {
            "tags": [],
            "needs_background": "light"
          }
        }
      ]
    },
    {
      "cell_type": "code",
      "metadata": {
        "id": "DdMmgwmhJrQM",
        "colab": {
          "base_uri": "https://localhost:8080/",
          "height": 312
        },
        "outputId": "7c75a4b2-a452-42bb-b77e-af98acff3bd1"
      },
      "source": [
        "b1 = logistic_test(x_train_bow, y_train, x_test_bow, y_test, penal='l2', optimal_C=a1)"
      ],
      "execution_count": null,
      "outputs": [
        {
          "output_type": "stream",
          "text": [
            "The accuracy of the model is: 97.37541528239203\n"
          ],
          "name": "stdout"
        },
        {
          "output_type": "display_data",
          "data": {
            "image/png": "[encoded data removed]",
            "text/plain": [
              "<Figure size 432x288 with 2 Axes>"
            ]
          },
          "metadata": {
            "tags": [],
            "needs_background": "light"
          }
        }
      ]
    },
    {
      "cell_type": "code",
      "metadata": {
        "id": "tvaYCBh6JuAQ",
        "colab": {
          "base_uri": "https://localhost:8080/",
          "height": 567
        },
        "outputId": "3e61a8ef-fb2d-46b9-cf57-d858e841260e"
      },
      "source": [
        "a2 = logistic_train(x_train_tfidf, x_cv_tfidf, y_train, y_cv, penal='l2')"
      ],
      "execution_count": null,
      "outputs": [
        {
          "output_type": "stream",
          "text": [
            "       Lambda  Accuracy\n",
            "0   10000.000  0.967784\n",
            "1    5000.000  0.969865\n",
            "2    1000.000  0.969026\n",
            "3     500.000  0.968724\n",
            "4     100.000  0.967314\n",
            "5      50.000  0.968388\n",
            "6      10.000  0.967516\n",
            "7       5.000  0.961375\n",
            "8       1.000  0.942246\n",
            "9       0.500  0.919460\n",
            "10      0.100  0.816202\n",
            "11      0.050  0.771100\n",
            "12      0.010  0.692238\n",
            "13      0.005  0.671130\n",
            "14      0.001  0.615289\n"
          ],
          "name": "stdout"
        },
        {
          "output_type": "display_data",
          "data": {
            "image/png": "[encoded data removed]",
            "text/plain": [
              "<Figure size 432x288 with 1 Axes>"
            ]
          },
          "metadata": {
            "tags": [],
            "needs_background": "light"
          }
        }
      ]
    },
    {
      "cell_type": "code",
      "metadata": {
        "id": "b58Izd8TJxE3",
        "colab": {
          "base_uri": "https://localhost:8080/",
          "height": 312
        },
        "outputId": "bb9446cc-3350-48fe-8706-68cf3763fdb2"
      },
      "source": [
        "b2 = logistic_test(x_train_tfidf, y_train, x_test_tfidf, y_test, penal='l2', optimal_C=a2)"
      ],
      "execution_count": null,
      "outputs": [
        {
          "output_type": "stream",
          "text": [
            "The accuracy of the model is: 97.1126547870734\n"
          ],
          "name": "stdout"
        },
        {
          "output_type": "display_data",
          "data": {
            "image/png": "[encoded data removed]",
            "text/plain": [
              "<Figure size 432x288 with 2 Axes>"
            ]
          },
          "metadata": {
            "tags": [],
            "needs_background": "light"
          }
        }
      ]
    },
    {
      "cell_type": "code",
      "metadata": {
        "colab": {
          "base_uri": "https://localhost:8080/"
        },
        "id": "G0dsgWhCOhzA",
        "outputId": "f528e82e-b631-41ff-f2e4-fb6b90e483ad"
      },
      "source": [
        "t = PrettyTable()\n",
        "t.field_names = [\"Model\", \"Hyperparameter\", \"Accuracy\"]\n",
        "t.add_row([\"Logistic regression using BOW\", a1, b1])\n",
        "t.add_row([\"Logistic regression using Tf-idf\", a2, b2])\n",
        "print(t)"
      ],
      "execution_count": null,
      "outputs": [
        {
          "output_type": "stream",
          "text": [
            "+----------------------------------+----------------+-------------------+\n",
            "|              Model               | Hyperparameter |      Accuracy     |\n",
            "+----------------------------------+----------------+-------------------+\n",
            "|  Logistic regression using BOW   |      500       | 97.37541528239203 |\n",
            "| Logistic regression using Tf-idf |      5000      |  97.1126547870734 |\n",
            "+----------------------------------+----------------+-------------------+\n"
          ],
          "name": "stdout"
        }
      ]
    },
    {
      "cell_type": "markdown",
      "metadata": {
        "id": "1afe4E0bGsol"
      },
      "source": [
        "---\n",
        "\n",
        "## **Decision Trees** \n",
        "\n",
        "---"
      ]
    },
    {
      "cell_type": "code",
      "metadata": {
        "id": "n4fSxEfmGvmo"
      },
      "source": [
        "def dt_train(x_train, x_cv, y_train, y_cv):\n",
        "    samples = [5, 10, 50, 100, 500]\n",
        "    depth = [5, 10, 50, 100]\n",
        "    accuracy_cv = []\n",
        "    est = []\n",
        "    dep = []\n",
        "\n",
        "    for i in samples:\n",
        "        for j in depth:\n",
        "            dt = DecisionTreeClassifier(min_samples_split=i, max_depth=j)\n",
        "            dt.fit(x_train, y_train)\n",
        "            prediction = dt.predict(x_cv)\n",
        "            acc_cv = accuracy_score(y_cv, prediction)\n",
        "            accuracy_cv.append(acc_cv)\n",
        "            est.append(i)\n",
        "            dep.append(j)\n",
        "    x = pd.DataFrame()\n",
        "    x['Estimators'] = est\n",
        "    x['Depth'] = dep\n",
        "    x['Accuracy'] = accuracy_cv\n",
        "    print(x)"
      ],
      "execution_count": null,
      "outputs": []
    },
    {
      "cell_type": "code",
      "metadata": {
        "id": "25f0h9NbHQcu"
      },
      "source": [
        "def dt_test(x_train, y_train, x_test, y_test, optimal_samples, optimal_depth):\n",
        "    dt = DecisionTreeClassifier(min_samples_split=optimal_samples, max_depth=optimal_depth)\n",
        "    dt.fit(x_train, y_train)\n",
        "    prediction = dt.predict(x_test)\n",
        "    print(\"The accuracy of the model is:\", accuracy_score(y_test, prediction)*100)\n",
        "    plot_confusion_matrix(y_test, prediction)\n",
        "    plt.show()\n",
        "    return accuracy_score(y_test, prediction)*100"
      ],
      "execution_count": null,
      "outputs": []
    },
    {
      "cell_type": "code",
      "metadata": {
        "colab": {
          "base_uri": "https://localhost:8080/"
        },
        "id": "AMpWwpwFHemm",
        "outputId": "cde52fe7-5ea6-4f61-943a-047b89159eb4"
      },
      "source": [
        "dt_train(x_train_bow, x_cv_bow, y_train, y_cv)"
      ],
      "execution_count": null,
      "outputs": [
        {
          "output_type": "stream",
          "text": [
            "    Estimators  Depth  Accuracy\n",
            "0            5      5  0.488372\n",
            "1            5     10  0.557905\n",
            "2            5     50  0.856035\n",
            "3            5    100  0.905064\n",
            "4           10      5  0.488372\n",
            "5           10     10  0.557368\n",
            "6           10     50  0.847881\n",
            "7           10    100  0.895500\n",
            "8           50      5  0.488305\n",
            "9           50     10  0.555220\n",
            "10          50     50  0.810296\n",
            "11          50    100  0.848518\n",
            "12         100      5  0.488204\n",
            "13         100     10  0.551998\n",
            "14         100     50  0.777979\n",
            "15         100    100  0.813786\n",
            "16         500      5  0.487802\n",
            "17         500     10  0.539649\n",
            "18         500     50  0.685761\n",
            "19         500    100  0.711098\n"
          ],
          "name": "stdout"
        }
      ]
    },
    {
      "cell_type": "code",
      "metadata": {
        "id": "c5DTXi7XHgSO",
        "colab": {
          "base_uri": "https://localhost:8080/",
          "height": 312
        },
        "outputId": "903125d0-bb99-460a-840c-625638b45e86"
      },
      "source": [
        "b1 = dt_test(x_train_bow, y_train, x_test_bow, y_test, optimal_samples=5, optimal_depth=100)"
      ],
      "execution_count": null,
      "outputs": [
        {
          "output_type": "stream",
          "text": [
            "The accuracy of the model is: 90.83358501963154\n"
          ],
          "name": "stdout"
        },
        {
          "output_type": "display_data",
          "data": {
            "image/png": "[encoded data removed]",
            "text/plain": [
              "<Figure size 432x288 with 2 Axes>"
            ]
          },
          "metadata": {
            "tags": [],
            "needs_background": "light"
          }
        }
      ]
    },
    {
      "cell_type": "code",
      "metadata": {
        "id": "dgOgkiBiHh6A",
        "colab": {
          "base_uri": "https://localhost:8080/"
        },
        "outputId": "fdc94838-e71f-4397-f4fd-c1a63f28f984"
      },
      "source": [
        "dt_train(x_train_tfidf, x_cv_tfidf, y_train, y_cv)"
      ],
      "execution_count": null,
      "outputs": [
        {
          "output_type": "stream",
          "text": [
            "    Estimators  Depth  Accuracy\n",
            "0            5      5  0.482600\n",
            "1            5     10  0.558374\n",
            "2            5     50  0.851404\n",
            "3            5    100  0.896876\n",
            "4           10      5  0.482634\n",
            "5           10     10  0.558710\n",
            "6           10     50  0.840230\n",
            "7           10    100  0.884661\n",
            "8           50      5  0.482634\n",
            "9           50     10  0.557200\n",
            "10          50     50  0.801873\n",
            "11          50    100  0.840532\n",
            "12         100      5  0.482197\n",
            "13         100     10  0.553743\n",
            "14         100     50  0.775060\n",
            "15         100    100  0.809524\n",
            "16         500      5  0.481862\n",
            "17         500     10  0.546562\n",
            "18         500     50  0.690694\n",
            "19         500    100  0.715225\n"
          ],
          "name": "stdout"
        }
      ]
    },
    {
      "cell_type": "code",
      "metadata": {
        "id": "FDlLmKAmHjcj",
        "colab": {
          "base_uri": "https://localhost:8080/",
          "height": 312
        },
        "outputId": "a4e9674f-a858-4ea0-fd74-f908cc08b579"
      },
      "source": [
        "b2 = dt_test(x_train_tfidf, y_train, x_test_tfidf, y_test, optimal_samples=5, optimal_depth=100)"
      ],
      "execution_count": null,
      "outputs": [
        {
          "output_type": "stream",
          "text": [
            "The accuracy of the model is: 89.975838115373\n"
          ],
          "name": "stdout"
        },
        {
          "output_type": "display_data",
          "data": {
            "image/png": "[encoded data removed]",
            "text/plain": [
              "<Figure size 432x288 with 2 Axes>"
            ]
          },
          "metadata": {
            "tags": [],
            "needs_background": "light"
          }
        }
      ]
    },
    {
      "cell_type": "code",
      "metadata": {
        "id": "3r9VzH2QHpBm",
        "colab": {
          "base_uri": "https://localhost:8080/"
        },
        "outputId": "75eececd-df16-44ac-d012-6925cf0334fb"
      },
      "source": [
        "t = PrettyTable()\n",
        "t.field_names = [\"Model\", \"Hyperparameter\", \"Accuracy\"]\n",
        "t.add_row([\"Decision tree using BOW\", \"Estimator and Depth - 100 and 5\", \"90.83358501963154\"])\n",
        "t.add_row([\"Decision tree using Tf-idf\", \"Estimator and Depth - 100 and 5\", \"89.975838115373\"])\n",
        "print(t)"
      ],
      "execution_count": null,
      "outputs": [
        {
          "output_type": "stream",
          "text": [
            "+----------------------------+---------------------------------+-------------------+\n",
            "|           Model            |          Hyperparameter         |      Accuracy     |\n",
            "+----------------------------+---------------------------------+-------------------+\n",
            "|  Decision tree using BOW   | Estimator and Depth - 100 and 5 | 90.83358501963154 |\n",
            "| Decision tree using Tf-idf | Estimator and Depth - 100 and 5 |  89.975838115373  |\n",
            "+----------------------------+---------------------------------+-------------------+\n"
          ],
          "name": "stdout"
        }
      ]
    },
    {
      "cell_type": "markdown",
      "metadata": {
        "id": "coPiyrxTGwFf"
      },
      "source": [
        "---\n",
        "\n",
        "## **Random Forest** \n",
        "\n",
        "---"
      ]
    },
    {
      "cell_type": "code",
      "metadata": {
        "id": "S6dp4N5mGymf"
      },
      "source": [
        "def rf_train(x_train, x_cv, y_train, y_cv):\n",
        "    estimators = [5, 10, 50, 100, 500, 600]\n",
        "    depth = [5, 10, 50, 100]\n",
        "    accuracy_cv = []\n",
        "    est = []\n",
        "    dep = []\n",
        "\n",
        "    for i in estimators:\n",
        "        for j in depth:\n",
        "            rf = RandomForestClassifier(n_estimators=i, max_depth=j, class_weight='balanced', n_jobs=-1)\n",
        "            rf.fit(x_train, y_train)\n",
        "            prediction = rf.predict(x_cv)\n",
        "            acc_cv = accuracy_score(y_cv, prediction)\n",
        "            est.append(i)\n",
        "            dep.append(j)\n",
        "            accuracy_cv.append(acc_cv)\n",
        "    x = pd.DataFrame()\n",
        "    x['Estimators'] = est\n",
        "    x['Depth'] = dep\n",
        "    x['Accuracy'] = accuracy_cv\n",
        "    print(x)"
      ],
      "execution_count": null,
      "outputs": []
    },
    {
      "cell_type": "code",
      "metadata": {
        "id": "sdXi0V-sIHzw"
      },
      "source": [
        "def rf_test(x_train, y_train, x_test, y_test, optimal_estimators, optimal_depth):\n",
        "    rf = RandomForestClassifier(n_estimators=optimal_estimators, max_depth=optimal_depth, class_weight='balanced', n_jobs=-1)\n",
        "    rf.fit(x_train, y_train)\n",
        "    prediction = rf.predict(x_test)\n",
        "    print(\"The accuracy of the model is:\", accuracy_score(y_test, prediction)*100)\n",
        "    \n",
        "    plot_confusion_matrix(y_test, prediction)\n",
        "    plt.show()\n",
        "    return accuracy_score(y_test, prediction)*100"
      ],
      "execution_count": null,
      "outputs": []
    },
    {
      "cell_type": "code",
      "metadata": {
        "id": "BfsregFpIPXT",
        "colab": {
          "base_uri": "https://localhost:8080/"
        },
        "outputId": "ecbf6388-ebf8-43e7-dbd3-7235f2f0ca78"
      },
      "source": [
        "rf_train(x_train_bow, x_cv_bow, y_train, y_cv)"
      ],
      "execution_count": null,
      "outputs": [
        {
          "output_type": "stream",
          "text": [
            "    Estimators  Depth  Accuracy\n",
            "0            5      5  0.386020\n",
            "1            5     10  0.451223\n",
            "2            5     50  0.679922\n",
            "3            5    100  0.839458\n",
            "4           10      5  0.445283\n",
            "5           10     10  0.496057\n",
            "6           10     50  0.760093\n",
            "7           10    100  0.882244\n",
            "8           50      5  0.571361\n",
            "9           50     10  0.632102\n",
            "10          50     50  0.854358\n",
            "11          50    100  0.934058\n",
            "12         100      5  0.620793\n",
            "13         100     10  0.659787\n",
            "14         100     50  0.863552\n",
            "15         100    100  0.944025\n",
            "16         500      5  0.662807\n",
            "17         500     10  0.704990\n",
            "18         500     50  0.877043\n",
            "19         500    100  0.951206\n",
            "20         600      5  0.678009\n",
            "21         600     10  0.708010\n",
            "22         600     50  0.875768\n",
            "23         600    100  0.952415\n"
          ],
          "name": "stdout"
        }
      ]
    },
    {
      "cell_type": "code",
      "metadata": {
        "id": "46BCX9rmISdu",
        "colab": {
          "base_uri": "https://localhost:8080/",
          "height": 312
        },
        "outputId": "d5b7120d-acee-40d2-8af4-fafb9b09a22f"
      },
      "source": [
        "b1 = rf_test(x_train_bow, y_train, x_test_bow, y_test, optimal_estimators=600, optimal_depth=100)"
      ],
      "execution_count": null,
      "outputs": [
        {
          "output_type": "stream",
          "text": [
            "The accuracy of the model is: 94.98338870431894\n"
          ],
          "name": "stdout"
        },
        {
          "output_type": "display_data",
          "data": {
            "image/png": "[encoded data removed]",
            "text/plain": [
              "<Figure size 432x288 with 2 Axes>"
            ]
          },
          "metadata": {
            "tags": [],
            "needs_background": "light"
          }
        }
      ]
    },
    {
      "cell_type": "code",
      "metadata": {
        "id": "CKKwbq1nIVDU",
        "colab": {
          "base_uri": "https://localhost:8080/"
        },
        "outputId": "eae6282a-5a76-4608-fe24-f12bf41a85cb"
      },
      "source": [
        "rf_train(x_train_tfidf, x_cv_tfidf, y_train, y_cv)"
      ],
      "execution_count": null,
      "outputs": [
        {
          "output_type": "stream",
          "text": [
            "    Estimators  Depth  Accuracy\n",
            "0            5      5  0.406054\n",
            "1            5     10  0.418202\n",
            "2            5     50  0.666834\n",
            "3            5    100  0.850733\n",
            "4           10      5  0.435015\n",
            "5           10     10  0.508171\n",
            "6           10     50  0.760361\n",
            "7           10    100  0.905366\n",
            "8           50      5  0.572033\n",
            "9           50     10  0.661029\n",
            "10          50     50  0.890567\n",
            "11          50    100  0.957616\n",
            "12         100      5  0.622974\n",
            "13         100     10  0.699688\n",
            "14         100     50  0.899728\n",
            "15         100    100  0.964026\n",
            "16         500      5  0.678479\n",
            "17         500     10  0.734958\n",
            "18         500     50  0.914393\n",
            "19         500    100  0.971811\n",
            "20         600      5  0.687271\n",
            "21         600     10  0.739555\n",
            "22         600     50  0.913185\n",
            "23         600    100  0.971341\n"
          ],
          "name": "stdout"
        }
      ]
    },
    {
      "cell_type": "code",
      "metadata": {
        "id": "xLGi0CxDIYD6",
        "colab": {
          "base_uri": "https://localhost:8080/",
          "height": 312
        },
        "outputId": "9f08ce89-ad45-4493-a978-76dcaeebb88b"
      },
      "source": [
        "b2 = rf_test(x_train_tfidf, y_train, x_test_tfidf, y_test, optimal_estimators=500, optimal_depth=100)"
      ],
      "execution_count": null,
      "outputs": [
        {
          "output_type": "stream",
          "text": [
            "The accuracy of the model is: 96.97674418604652\n"
          ],
          "name": "stdout"
        },
        {
          "output_type": "display_data",
          "data": {
            "image/png": "[encoded data removed]",
            "text/plain": [
              "<Figure size 432x288 with 2 Axes>"
            ]
          },
          "metadata": {
            "tags": [],
            "needs_background": "light"
          }
        }
      ]
    },
    {
      "cell_type": "code",
      "metadata": {
        "id": "E3SzsAOeI92E",
        "colab": {
          "base_uri": "https://localhost:8080/"
        },
        "outputId": "14a829ae-eb81-44fa-d426-daae750b681d"
      },
      "source": [
        "t = PrettyTable()\n",
        "t.field_names = [\"Model\", \"Hyperparameter\", \"Accuracy\"]\n",
        "t.add_row([\"Random forest using BOW\", \"Estimator and Depth - 600 and 100\", b1])\n",
        "t.add_row([\"Random forest using Tf-idf\", \"Estimator and Depth - 500 and 100\", b2])\n",
        "print(t)"
      ],
      "execution_count": null,
      "outputs": [
        {
          "output_type": "stream",
          "text": [
            "+----------------------------+-----------------------------------+-------------------+\n",
            "|           Model            |           Hyperparameter          |      Accuracy     |\n",
            "+----------------------------+-----------------------------------+-------------------+\n",
            "|  Random forest using BOW   | Estimator and Depth - 600 and 100 | 94.98338870431894 |\n",
            "| Random forest using Tf-idf | Estimator and Depth - 500 and 100 | 96.97674418604652 |\n",
            "+----------------------------+-----------------------------------+-------------------+\n"
          ],
          "name": "stdout"
        }
      ]
    },
    {
      "cell_type": "markdown",
      "metadata": {
        "id": "taSF3zZxI-PF"
      },
      "source": [
        "---\n",
        "\n",
        "## **K Nearest Neighbor** \n",
        "\n",
        "---"
      ]
    },
    {
      "cell_type": "code",
      "metadata": {
        "id": "hLAYwYdZI-qS"
      },
      "source": [
        "def knn_train(x_train, x_cv, y_train, y_cv, algo):\n",
        "    k = []\n",
        "    accuracy_cv = []\n",
        "\n",
        "    for i in range(2, 25, 2):\n",
        "        neighbor = KNeighborsClassifier(n_neighbors=i, algorithm=algo)\n",
        "        neighbor.fit(x_train, y_train)\n",
        "        \n",
        "        prediction = neighbor.predict(x_cv)\n",
        "        \n",
        "        acc_cv = accuracy_score(y_cv, prediction)\n",
        "        k.append(i)\n",
        "        accuracy_cv.append(acc_cv)\n",
        "    opt_k = k[accuracy_cv.index(max(accuracy_cv))]\n",
        "    x = pd.DataFrame()\n",
        "    x['K'] = k\n",
        "    x['Accuracy'] = accuracy_cv\n",
        "    print(x)    \n",
        "    \n",
        "    plt.plot(k, accuracy_cv, 'b-', label=\"Cross Validation Data\")\n",
        "    plt.legend(loc='lower right')\n",
        "    plt.title(\"K v/s Auc Score\")\n",
        "    plt.ylabel('Auc Score')\n",
        "    plt.xlabel('K')\n",
        "    plt.show()\n",
        "    return opt_k"
      ],
      "execution_count": null,
      "outputs": []
    },
    {
      "cell_type": "code",
      "metadata": {
        "id": "dvjrgfP9JIsM"
      },
      "source": [
        "def knn_test(x_train, y_train, x_test, y_test, algo, optimal_k):\n",
        "    neighbor = KNeighborsClassifier(n_neighbors=optimal_k, algorithm=algo) \n",
        "    neighbor.fit(x_train, y_train)\n",
        "    prediction = neighbor.predict(x_test)\n",
        "    print(\"The accuracy of the model is:\", accuracy_score(y_test, prediction)*100)\n",
        "    \n",
        "    plot_confusion_matrix(y_test, prediction)\n",
        "    plt.show()\n",
        "    return accuracy_score(y_test, prediction)*100"
      ],
      "execution_count": null,
      "outputs": []
    },
    {
      "cell_type": "code",
      "metadata": {
        "id": "RvQh7xIrJMY1",
        "colab": {
          "base_uri": "https://localhost:8080/",
          "height": 516
        },
        "outputId": "abfd971e-4a80-46f5-85c5-d829e0a5a247"
      },
      "source": [
        "a1 = knn_train(x_train_bow, x_cv_bow, y_train, y_cv, algo='brute')"
      ],
      "execution_count": null,
      "outputs": [
        {
          "output_type": "stream",
          "text": [
            "     K  Accuracy\n",
            "0    2  0.767744\n",
            "1    4  0.726199\n",
            "2    6  0.690057\n",
            "3    8  0.654686\n",
            "4   10  0.620457\n",
            "5   12  0.596966\n",
            "6   14  0.577570\n",
            "7   16  0.559784\n",
            "8   18  0.568140\n",
            "9   20  0.572704\n",
            "10  22  0.572704\n",
            "11  24  0.576999\n"
          ],
          "name": "stdout"
        },
        {
          "output_type": "display_data",
          "data": {
            "image/png": "[encoded data removed]",
            "text/plain": [
              "<Figure size 432x288 with 1 Axes>"
            ]
          },
          "metadata": {
            "tags": [],
            "needs_background": "light"
          }
        }
      ]
    },
    {
      "cell_type": "code",
      "metadata": {
        "id": "0kPRjQ0lJOuD",
        "colab": {
          "base_uri": "https://localhost:8080/",
          "height": 312
        },
        "outputId": "e3716a4c-bdb0-4d85-ef22-25ff6a3e3ac5"
      },
      "source": [
        "b1 = knn_test(x_train_bow, y_train, x_test_bow, y_test, algo='brute', optimal_k=a1)"
      ],
      "execution_count": null,
      "outputs": [
        {
          "output_type": "stream",
          "text": [
            "The accuracy of the model is: 76.41800060404712\n"
          ],
          "name": "stdout"
        },
        {
          "output_type": "display_data",
          "data": {
            "image/png": "[encoded data removed]",
            "text/plain": [
              "<Figure size 432x288 with 2 Axes>"
            ]
          },
          "metadata": {
            "tags": [],
            "needs_background": "light"
          }
        }
      ]
    },
    {
      "cell_type": "code",
      "metadata": {
        "id": "JzAmIQueJQuh",
        "colab": {
          "base_uri": "https://localhost:8080/",
          "height": 516
        },
        "outputId": "957745d6-27e2-4be8-b0ce-3135e1eae56e"
      },
      "source": [
        "a2 = knn_train(x_train_tfidf, x_cv_tfidf, y_train, y_cv, algo='brute')"
      ],
      "execution_count": null,
      "outputs": [
        {
          "output_type": "stream",
          "text": [
            "     K  Accuracy\n",
            "0    2  0.856639\n",
            "1    4  0.796973\n",
            "2    6  0.746703\n",
            "3    8  0.704285\n",
            "4   10  0.678110\n",
            "5   12  0.656029\n",
            "6   14  0.643847\n",
            "7   16  0.632773\n",
            "8   18  0.626430\n",
            "9   20  0.622571\n",
            "10  22  0.617504\n",
            "11  24  0.612403\n"
          ],
          "name": "stdout"
        },
        {
          "output_type": "display_data",
          "data": {
            "image/png": "[encoded data removed]",
            "text/plain": [
              "<Figure size 432x288 with 1 Axes>"
            ]
          },
          "metadata": {
            "tags": [],
            "needs_background": "light"
          }
        }
      ]
    },
    {
      "cell_type": "code",
      "metadata": {
        "id": "2NOEqetqJTRP",
        "colab": {
          "base_uri": "https://localhost:8080/",
          "height": 312
        },
        "outputId": "f2f63253-8a6e-4e2f-c015-f0ead8377f89"
      },
      "source": [
        "b2 = knn_test(x_train_tfidf, y_train, x_test_tfidf, y_test, algo='brute', optimal_k=a2)"
      ],
      "execution_count": null,
      "outputs": [
        {
          "output_type": "stream",
          "text": [
            "The accuracy of the model is: 85.82301419510722\n"
          ],
          "name": "stdout"
        },
        {
          "output_type": "display_data",
          "data": {
            "image/png": "[encoded data removed]",
            "text/plain": [
              "<Figure size 432x288 with 2 Axes>"
            ]
          },
          "metadata": {
            "tags": [],
            "needs_background": "light"
          }
        }
      ]
    },
    {
      "cell_type": "code",
      "metadata": {
        "id": "WilM9KfYTctl",
        "colab": {
          "base_uri": "https://localhost:8080/"
        },
        "outputId": "7bfd8e33-dbbe-4554-9336-102bf3a52980"
      },
      "source": [
        "t = PrettyTable()\n",
        "t.field_names = [\"Model\", \"Hyperparameter\", \"Accuracy\"]\n",
        "t.add_row([\"KNN using BOW\", a1, b1])\n",
        "t.add_row([\"KNN Tf-idf\", a2, b2])\n",
        "print(t)"
      ],
      "execution_count": null,
      "outputs": [
        {
          "output_type": "stream",
          "text": [
            "+---------------+----------------+-------------------+\n",
            "|     Model     | Hyperparameter |      Accuracy     |\n",
            "+---------------+----------------+-------------------+\n",
            "| KNN using BOW |       2        | 76.41800060404712 |\n",
            "|   KNN Tf-idf  |       2        | 85.82301419510722 |\n",
            "+---------------+----------------+-------------------+\n"
          ],
          "name": "stdout"
        }
      ]
    },
    {
      "cell_type": "markdown",
      "metadata": {
        "id": "tA4lglMITC0a"
      },
      "source": [
        "---\n",
        "\n",
        "## **Inference** \n",
        "\n",
        "---"
      ]
    },
    {
      "cell_type": "code",
      "metadata": {
        "id": "0xMKHuVk-OJ7",
        "colab": {
          "base_uri": "https://localhost:8080/"
        },
        "outputId": "2dff22af-71aa-4dc7-cb82-0fd13b07e29c"
      },
      "source": [
        "t = PrettyTable()\n",
        "t.field_names = [\"Model\", \"Hyperparameter\", \"Accuracy\"]\n",
        "t.add_row([\"Multinomial Naive bayes using BOW\", \"alpha - 0.0001\", \"97.64421624886741\"])\n",
        "t.add_row([\"Multinomial Naive bayes using Tf-idf\", \"alpha - 0.00005\", \"97.65327695560254\"])\n",
        "t.add_row([\"Bernoulli Naive bayes using BOW\", \"alpha - 0.0001\", \"97.83449109030504\"])\n",
        "t.add_row([\"Bernoulli Naive bayes using Tf-idf\", \"alpha - 0.0001\", \"97.83449109030504\"])\n",
        "t.add_row([\"Linear SVM using BOW\", \"C - 0.0001\", \"97.67441860465115\"])\n",
        "t.add_row([\" Linear SVM using TF-idf\", \"C - 0.00001\", \"98.05194805194806\"])\n",
        "t.add_row([\"Logistic regression using BOW\", \"lambda - 500\", \"97.37541528239203\"])\n",
        "t.add_row([\"Logistic regression using Tf-idf\", \"lamda - 5000\", \"97.1126547870734\"])\n",
        "t.add_row([\"Decision tree using BOW\", \"Estimator and Depth - 100 and 5\", \"90.83358501963154\"])\n",
        "t.add_row([\"Decision tree using Tf-idf\", \"Estimator and Depth - 100 and 5\", \"89.975838115373 \"])\n",
        "t.add_row([\"Random forest using BOW\", \"Estimator and Depth - 600 and 100\", \"94.98338870431894\"])\n",
        "t.add_row([\"Random forest using Tf-idf\", \"Estimator and Depth - 500 and 100\", \"96.97674418604652\"])\n",
        "t.add_row([\"KNN using BOW\", \"k - 2\", \"76.41800060404712\"])\n",
        "t.add_row([\"KNN Tf-idf\", \"k - 2\", \"85.82301419510722\"])\n",
        "print(t)"
      ],
      "execution_count": null,
      "outputs": [
        {
          "output_type": "stream",
          "text": [
            "+--------------------------------------+-----------------------------------+-------------------+\n",
            "|                Model                 |           Hyperparameter          |      Accuracy     |\n",
            "+--------------------------------------+-----------------------------------+-------------------+\n",
            "|  Multinomial Naive bayes using BOW   |           alpha - 0.0001          | 97.64421624886741 |\n",
            "| Multinomial Naive bayes using Tf-idf |          alpha - 0.00005          | 97.65327695560254 |\n",
            "|   Bernoulli Naive bayes using BOW    |           alpha - 0.0001          | 97.83449109030504 |\n",
            "|  Bernoulli Naive bayes using Tf-idf  |           alpha - 0.0001          | 97.83449109030504 |\n",
            "|         Linear SVM using BOW         |             C - 0.0001            | 97.67441860465115 |\n",
            "|        Linear SVM using TF-idf       |            C - 0.00001            | 98.05194805194806 |\n",
            "|    Logistic regression using BOW     |            lambda - 500           | 97.37541528239203 |\n",
            "|   Logistic regression using Tf-idf   |            lamda - 5000           |  97.1126547870734 |\n",
            "|       Decision tree using BOW        |  Estimator and Depth - 100 and 5  | 90.83358501963154 |\n",
            "|      Decision tree using Tf-idf      |  Estimator and Depth - 100 and 5  |  89.975838115373  |\n",
            "|       Random forest using BOW        | Estimator and Depth - 600 and 100 | 94.98338870431894 |\n",
            "|      Random forest using Tf-idf      | Estimator and Depth - 500 and 100 | 96.97674418604652 |\n",
            "|            KNN using BOW             |               k - 2               | 76.41800060404712 |\n",
            "|              KNN Tf-idf              |               k - 2               | 85.82301419510722 |\n",
            "+--------------------------------------+-----------------------------------+-------------------+\n"
          ],
          "name": "stdout"
        }
      ]
    },
    {
      "cell_type": "markdown",
      "metadata": {
        "id": "g8vt36b_RUGk"
      },
      "source": [
        "### The main objective was to do sentiment analysis on various Machine learning models, among all the machine learning models used Support Vector machine using Tf-idf vectorization performed well with 98% accuracy."
      ]
    },
    {
      "cell_type": "code",
      "metadata": {
        "id": "rH83oL4SRBsE"
      },
      "source": [
        ""
      ],
      "execution_count": null,
      "outputs": []
    }
  ]
}